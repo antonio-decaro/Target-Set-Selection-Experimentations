{
  "cells": [
    {
      "cell_type": "markdown",
      "metadata": {
        "id": "view-in-github",
        "colab_type": "text"
      },
      "source": [
        "<a href=\"https://colab.research.google.com/github/antonio-decaro/Target-Set-Selection-Experimentations/blob/main/Colab.ipynb\" target=\"_parent\"><img src=\"https://colab.research.google.com/assets/colab-badge.svg\" alt=\"Open In Colab\"/></a>"
      ]
    },
    {
      "cell_type": "markdown",
      "source": [
        "# Inizializzazione"
      ],
      "metadata": {
        "id": "Gi9oyw8LkBSl"
      }
    },
    {
      "cell_type": "markdown",
      "source": [
        "Importiamo tutte le librerie."
      ],
      "metadata": {
        "id": "GDovA_qgHIp0"
      }
    },
    {
      "cell_type": "code",
      "execution_count": 1,
      "metadata": {
        "id": "7KsPzGC_kmZE"
      },
      "outputs": [],
      "source": [
        "import networkx as nx\n",
        "import matplotlib.pyplot as plt\n",
        "import random\n",
        "import heapdict\n",
        "import random\n",
        "import time\n",
        "import re"
      ]
    },
    {
      "cell_type": "markdown",
      "source": [
        "Inizializziamo il grafo sulla base di un dataset."
      ],
      "metadata": {
        "id": "ATJmRMotHMuj"
      }
    },
    {
      "cell_type": "code",
      "execution_count": 2,
      "metadata": {
        "colab": {
          "base_uri": "https://localhost:8080/",
          "height": 319
        },
        "id": "X1-CR6aPbELR",
        "outputId": "a746153e-9c72-4262-cc10-7793b835a7e6"
      },
      "outputs": [
        {
          "output_type": "display_data",
          "data": {
            "text/plain": [
              "<Figure size 432x288 with 1 Axes>"
            ],
            "image/png": "[encoded data removed]"
          },
          "metadata": {}
        }
      ],
      "source": [
        "g = nx.Graph()\n",
        "\n",
        "with open('jazz.txt') as f:\n",
        "  lines = f.readlines()\n",
        "def parse(line):\n",
        "  return tuple(line.strip().split())\n",
        "\n",
        "\n",
        "g.add_edges_from(list(map(parse, lines[:len(lines)])))\n",
        "nx.draw(g)"
      ]
    },
    {
      "cell_type": "markdown",
      "source": [
        "# Implementazione di WTSS\n",
        "\n",
        "Vogliamo implementare l'algoritmo pesato di Target Set Selection"
      ],
      "metadata": {
        "id": "5SVNFNdAi_H1"
      }
    },
    {
      "cell_type": "code",
      "source": [
        "def argmax(G, t, c):\n",
        "  def ratio(v):\n",
        "    d = G.degree(v)\n",
        "    if d == 0:\n",
        "      return float('-inf')\n",
        "    return t[v]/(d * (d+1))\n",
        "\n",
        "  v = max(G.nodes(), key=lambda x: ratio(x))\n",
        "  max_ratio = ratio(v)\n",
        "  max_ratio_nodes = set()\n",
        "  for v in G.nodes():\n",
        "    if ratio(v) == max_ratio:\n",
        "      max_ratio_nodes.add(v)\n",
        "\n",
        "  v = max(max_ratio_nodes, key=lambda x: c[x])\n",
        "  return v\n",
        "\n",
        "\n",
        "def decrease_thresholds(G, v, t):\n",
        "  for u in G.neighbors(v):\n",
        "    t[u] -= 1\n",
        "\n",
        "def clean_graph(G):\n",
        "  to_remove = set()\n",
        "  for node in G.nodes():\n",
        "    if G.degree(node) == 0:\n",
        "      to_remove.add(node)\n",
        "  for node in to_remove:\n",
        "    G.remove_node(node)"
      ],
      "metadata": {
        "id": "b3BSle4NjD-j"
      },
      "execution_count": 3,
      "outputs": []
    },
    {
      "cell_type": "code",
      "source": [
        "def WTSS(graph, thresholds, costs):\n",
        "  G = graph.copy()\n",
        "  t = thresholds.copy()\n",
        "  S = set()\n",
        "\n",
        "  while G.number_of_nodes():\n",
        "    # controlliamo se abbiamo nodi con threshold uguale a 0, e rimuoviamoli dal grafo\n",
        "    for v in G.nodes():\n",
        "      if t[v] == 0:\n",
        "        decrease_thresholds(G, v, t)\n",
        "        break\n",
        "    else:\n",
        "      available_nodes = set()\n",
        "      # aggiungi alla lista dei nodi disponibili tutti quelli che hanno grado inferiore del threhsold\n",
        "      for node in G.nodes():\n",
        "        if G.degree(node) < t[node]:\n",
        "          available_nodes.add(node)\n",
        "      # se esistono tali nodi, aggiungiamo ad S quello con il costo inferiore\n",
        "      if available_nodes:\n",
        "        v = min(available_nodes, key=lambda x: costs[x])\n",
        "        S.add(v)\n",
        "        decrease_thresholds(G, v, t)\n",
        "      # altrimenti rimuoviamo dal grafo il nodo con ratio maggiore (e con costo maggiore)\n",
        "      else: \n",
        "        v = argmax(G, t, costs)\n",
        "\n",
        "    G.remove_node(v)\n",
        "    # clean_graph(G)\n",
        "  return S"
      ],
      "metadata": {
        "id": "nR9lUAasFDgW"
      },
      "execution_count": 4,
      "outputs": []
    },
    {
      "cell_type": "markdown",
      "source": [
        "## Experimentations\n",
        "Vogliamo sperimentare il comportamento dell'algoritmo implementato.\n",
        "Definiamo prima il vettore dei costi `c=[c1,...,cn]`."
      ],
      "metadata": {
        "id": "G0qS8tOCIWCx"
      }
    },
    {
      "cell_type": "code",
      "source": [
        "c = {n: random.randint(2, 5) for n in g.nodes()}"
      ],
      "metadata": {
        "id": "P69SCKT4GlwL"
      },
      "execution_count": null,
      "outputs": []
    },
    {
      "cell_type": "markdown",
      "source": [
        "### Threshold costante\n",
        "\n",
        "Vogliamo verificare il comportamento del nostro algritmo con un threshold costante, nel nostro caso uguale a 2."
      ],
      "metadata": {
        "id": "WntRkFnNF8ny"
      }
    },
    {
      "cell_type": "code",
      "source": [
        "t = {n: 2 for n in g.nodes()}\n",
        "\n",
        "sol = WTSS(g, t, c)\n",
        "\n",
        "print(f'Target Set Size: {len(sol)}')"
      ],
      "metadata": {
        "colab": {
          "base_uri": "https://localhost:8080/"
        },
        "id": "1Xgiax7Ds3US",
        "outputId": "be692731-ff99-4f75-e5dd-a99f69759a78"
      },
      "execution_count": 66,
      "outputs": [
        {
          "output_type": "stream",
          "name": "stdout",
          "text": [
            "Target Set Size: 7\n"
          ]
        }
      ]
    },
    {
      "cell_type": "markdown",
      "source": [
        "### Threshold a Maggioranza\n",
        "\n",
        "Bisogna capire che intende la prof"
      ],
      "metadata": {
        "id": "UIcPDy77Rxgc"
      }
    },
    {
      "cell_type": "code",
      "source": [
        ""
      ],
      "metadata": {
        "id": "VlmsLLDlRzwE"
      },
      "execution_count": null,
      "outputs": []
    },
    {
      "cell_type": "markdown",
      "source": [
        "### Threshold proporzionale al grado\n",
        "\n",
        "Il threshold è definito in maniera proporzionale al grado del nodo. Si utilizza una costante lambda per modificare il valore del threshold.\n",
        "\n",
        "Per un nodo *v*: *t(v) = LAMBDA * d(v)*."
      ],
      "metadata": {
        "id": "P4_D4jv2P9ck"
      }
    },
    {
      "cell_type": "code",
      "source": [
        "LAMBDA = 0.2\n",
        "\n",
        "t = {n: int(g.degree(n) * LAMBDA) for n in g.nodes()}\n",
        "\n",
        "sol = WTSS(g, t, c)\n",
        "\n",
        "print(f'Target Set Size: {len(sol)}')"
      ],
      "metadata": {
        "colab": {
          "base_uri": "https://localhost:8080/"
        },
        "id": "4eLWepszQf0R",
        "outputId": "9ae78ea5-3c13-4a84-b866-0a1f2177cee1"
      },
      "execution_count": 83,
      "outputs": [
        {
          "output_type": "stream",
          "name": "stdout",
          "text": [
            "Target Set Size: 5\n"
          ]
        }
      ]
    },
    {
      "cell_type": "markdown",
      "source": [
        "### Modello non deterministico\n",
        "A questo punto cosa succede se invece di utilizzare dei threshold decidessimo di assegnare una probabilità ad ogni arco?\n",
        "Utilizziamo il __processo di decisione differita__ e calcoliamo il valore medio di diverse iterazioni.\n",
        "\n",
        "Definiamo inoltre una funzione `check_coeverage` per controllare che venga raggiunto il **Complete Cascade**."
      ],
      "metadata": {
        "id": "4TfaB3ELIjZc"
      }
    },
    {
      "cell_type": "code",
      "source": [
        "from typing import Collection\n",
        "def differ_decision(graph: nx.Graph, prob) -> nx.Graph:\n",
        "  dd = graph.copy()\n",
        "\n",
        "  if type(prob) in (int, float):\n",
        "    prob = {e: prob for e in graph.edges()}\n",
        "  else:\n",
        "    if len(prob) != graph.number_of_edges():\n",
        "      raise AttributeError('probability list has different size then number of edges')\n",
        "\n",
        "  for e in graph.edges():\n",
        "    if random.randint(0, 100) > prob[e]:\n",
        "      dd.remove_edge(*e)\n",
        "  return dd\n",
        "\n",
        "def check_coverage(g, sol):\n",
        "  explored = set()\n",
        "  def dfs(v):\n",
        "    if v not in explored:\n",
        "      explored.add(v)\n",
        "    for u in dd.neighbors(v):\n",
        "      if u not in explored:\n",
        "        dfs(u)\n",
        "\n",
        "  for node in sol:\n",
        "    dfs(node)\n",
        "\n",
        "  return len(explored) == g.number_of_nodes()"
      ],
      "metadata": {
        "id": "2GaSFv8VKcrh"
      },
      "execution_count": 62,
      "outputs": []
    },
    {
      "cell_type": "markdown",
      "source": [
        "Utilizziamo per ogni arco una probabilità di attivazione costante. Nel nostro caso 20%."
      ],
      "metadata": {
        "id": "wZ9xLKxoHAGz"
      }
    },
    {
      "cell_type": "code",
      "source": [
        "import math\n",
        "\n",
        "PROB = 50 # probabilità che un arco venga attivato\n",
        "ITERATIONS = 10\n",
        "\n",
        "tot_size = 0\n",
        "correct = True\n",
        "for i in range(ITERATIONS):\n",
        "  dd = differ_decision(g, PROB)\n",
        "  sol = WTSS(dd, {n: 1 for n in g.nodes()}, c)\n",
        "  tot_size += len(sol)\n",
        "  if not check_coverage(dd, sol):\n",
        "    print('Errore! Complete Cascade non raggiunto')\n",
        "    correct = False\n",
        "    break\n",
        "\n",
        "if correct:\n",
        "  print(f\"Target Set size [prob={PROB}%]: {math.ceil(tot_size / ITERATIONS)}\")"
      ],
      "metadata": {
        "colab": {
          "base_uri": "https://localhost:8080/"
        },
        "id": "UiguE6u3IqRT",
        "outputId": "7d18aaa8-668e-47ff-aa1e-358411074b3b"
      },
      "execution_count": 65,
      "outputs": [
        {
          "output_type": "stream",
          "name": "stdout",
          "text": [
            "Target Set size [prob=50%]: 7\n"
          ]
        }
      ]
    }
  ],
  "metadata": {
    "colab": {
      "collapsed_sections": [],
      "name": "Reti Sociali.ipynb",
      "provenance": [],
      "authorship_tag": "ABX9TyMh7pY30gkTs9hZCKs8uEBJ",
      "include_colab_link": true
    },
    "kernelspec": {
      "display_name": "Python 3",
      "name": "python3"
    },
    "language_info": {
      "name": "python"
    }
  },
  "nbformat": 4,
  "nbformat_minor": 0
}